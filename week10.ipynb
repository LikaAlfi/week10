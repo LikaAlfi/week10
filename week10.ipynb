{
  "nbformat": 4,
  "nbformat_minor": 0,
  "metadata": {
    "colab": {
      "provenance": [],
      "authorship_tag": "ABX9TyMBQP768VZnU2oColObRutW",
      "include_colab_link": true
    },
    "kernelspec": {
      "name": "python3",
      "display_name": "Python 3"
    },
    "language_info": {
      "name": "python"
    }
  },
  "cells": [
    {
      "cell_type": "markdown",
      "metadata": {
        "id": "view-in-github",
        "colab_type": "text"
      },
      "source": [
        "<a href=\"https://colab.research.google.com/github/LikaAlfi/week10/blob/main/week10.ipynb\" target=\"_parent\"><img src=\"https://colab.research.google.com/assets/colab-badge.svg\" alt=\"Open In Colab\"/></a>"
      ]
    },
    {
      "cell_type": "code",
      "execution_count": null,
      "metadata": {
        "colab": {
          "base_uri": "https://localhost:8080/"
        },
        "id": "lv0t762F5zsU",
        "outputId": "43b1cbfc-a9ba-418f-e201-855af7b85619"
      },
      "outputs": [
        {
          "output_type": "stream",
          "name": "stdout",
          "text": [
            "Hello from a function\n"
          ]
        }
      ],
      "source": [
        "def my_function():\n",
        "  print(\"Hello from a function\")\n",
        "my_function()"
      ]
    },
    {
      "cell_type": "code",
      "source": [
        "def my_function(fname):\n",
        "  print(fname + \" Sitohang\")\n",
        "\n",
        "my_function(\"Toha\")\n",
        "my_function(\"Tohir\")\n",
        "my_function(\"Tobi\")"
      ],
      "metadata": {
        "colab": {
          "base_uri": "https://localhost:8080/"
        },
        "id": "1yMJc2x06ANO",
        "outputId": "c712aabc-2722-4267-c764-6d3231438174"
      },
      "execution_count": null,
      "outputs": [
        {
          "output_type": "stream",
          "name": "stdout",
          "text": [
            "Toha Sitohang\n",
            "Tohir Sitohang\n",
            "Tobi Sitohang\n"
          ]
        }
      ]
    },
    {
      "cell_type": "code",
      "source": [
        "#This function expects 2 arguments, and gets 2 arguments:\n",
        "def my_function(fname, lname):\n",
        "  print(fname + \" \" + lname)\n",
        "\n",
        "my_function(\"Toha\", \"Sitohang\")"
      ],
      "metadata": {
        "colab": {
          "base_uri": "https://localhost:8080/"
        },
        "id": "rI5tpGRs6FZl",
        "outputId": "057ac897-90d1-4f2d-f90e-7df15fe6c2c5"
      },
      "execution_count": null,
      "outputs": [
        {
          "output_type": "stream",
          "name": "stdout",
          "text": [
            "Toha Sitohang\n"
          ]
        }
      ]
    },
    {
      "cell_type": "code",
      "source": [
        "#This function expects 2 arguments, but gets only 1:\n",
        "def my_function(fname, lname):\n",
        "  print(fname + \" \" + lname)\n",
        "\n",
        "my_function(\"Surip\")"
      ],
      "metadata": {
        "colab": {
          "base_uri": "https://localhost:8080/",
          "height": 176
        },
        "id": "FR11RoKQ6G62",
        "outputId": "9fd1405f-c92b-4250-e714-699f91ab9307"
      },
      "execution_count": null,
      "outputs": [
        {
          "output_type": "error",
          "ename": "TypeError",
          "evalue": "my_function() missing 1 required positional argument: 'lname'",
          "traceback": [
            "\u001b[0;31m---------------------------------------------------------------------------\u001b[0m",
            "\u001b[0;31mTypeError\u001b[0m                                 Traceback (most recent call last)",
            "\u001b[0;32m<ipython-input-4-2a8f743861d0>\u001b[0m in \u001b[0;36m<cell line: 5>\u001b[0;34m()\u001b[0m\n\u001b[1;32m      3\u001b[0m   \u001b[0mprint\u001b[0m\u001b[0;34m(\u001b[0m\u001b[0mfname\u001b[0m \u001b[0;34m+\u001b[0m \u001b[0;34m\" \"\u001b[0m \u001b[0;34m+\u001b[0m \u001b[0mlname\u001b[0m\u001b[0;34m)\u001b[0m\u001b[0;34m\u001b[0m\u001b[0;34m\u001b[0m\u001b[0m\n\u001b[1;32m      4\u001b[0m \u001b[0;34m\u001b[0m\u001b[0m\n\u001b[0;32m----> 5\u001b[0;31m \u001b[0mmy_function\u001b[0m\u001b[0;34m(\u001b[0m\u001b[0;34m\"Surip\"\u001b[0m\u001b[0;34m)\u001b[0m\u001b[0;34m\u001b[0m\u001b[0;34m\u001b[0m\u001b[0m\n\u001b[0m",
            "\u001b[0;31mTypeError\u001b[0m: my_function() missing 1 required positional argument: 'lname'"
          ]
        }
      ]
    },
    {
      "cell_type": "code",
      "source": [
        "#If the number of arguments is unknown, add a * before the parameter name:\n",
        "\n",
        "def my_function(*kids):\n",
        "  print(\"The youngest child is \" + kids[2])\n",
        "\n",
        "my_function(\"Lekyung\", \"Jimin\", \"Tukimin\")"
      ],
      "metadata": {
        "colab": {
          "base_uri": "https://localhost:8080/"
        },
        "id": "5rIj8wSk6LN2",
        "outputId": "2c2cdf65-ff00-4e54-8e44-52d3b0575a71"
      },
      "execution_count": null,
      "outputs": [
        {
          "output_type": "stream",
          "name": "stdout",
          "text": [
            "The youngest child is Tukimin\n"
          ]
        }
      ]
    },
    {
      "cell_type": "code",
      "source": [
        "def my_function(child3, child2, child1):\n",
        "  print(\"The youngest child is \" + child3)\n",
        "\n",
        "my_function(child1 = \"Lekyung\", child2 = \"Tukimin\", child3 = \"Jimin\")"
      ],
      "metadata": {
        "colab": {
          "base_uri": "https://localhost:8080/"
        },
        "id": "HigcMQLa6NA1",
        "outputId": "15fa35a7-5cf9-468d-d5b0-600aec151e5b"
      },
      "execution_count": null,
      "outputs": [
        {
          "output_type": "stream",
          "name": "stdout",
          "text": [
            "The youngest child is Jimin\n"
          ]
        }
      ]
    },
    {
      "cell_type": "code",
      "source": [
        "#If the number of keyword arguments is unknown, add a double ** before the parameter name:\n",
        "def my_function(**kid):\n",
        "  print(\"His last name is \" + kid[\"lname\"])\n",
        "\n",
        "my_function(fname = \"Thanos\", lname = \"ireng Man\")"
      ],
      "metadata": {
        "colab": {
          "base_uri": "https://localhost:8080/"
        },
        "id": "IVxNH31H6hl-",
        "outputId": "ec08cb1c-017d-4090-9628-d523fa37b1d0"
      },
      "execution_count": null,
      "outputs": [
        {
          "output_type": "stream",
          "name": "stdout",
          "text": [
            "His last name is ireng Man\n"
          ]
        }
      ]
    },
    {
      "cell_type": "code",
      "source": [
        "def my_function(country = \"Indonesia\"):\n",
        "  print(\"I am from \" + country)\n",
        "\n",
        "my_function(\"UEA\")\n",
        "my_function(\"Arab Saudi\")\n",
        "my_function()\n",
        "my_function(\"Malaysia\")"
      ],
      "metadata": {
        "colab": {
          "base_uri": "https://localhost:8080/"
        },
        "id": "HPa7DW2j6jQF",
        "outputId": "0c9d1e12-6b05-431b-d1e2-98e5e3e65166"
      },
      "execution_count": null,
      "outputs": [
        {
          "output_type": "stream",
          "name": "stdout",
          "text": [
            "I am from UEA\n",
            "I am from Arab Saudi\n",
            "I am from Indonesia\n",
            "I am from Malaysia\n"
          ]
        }
      ]
    },
    {
      "cell_type": "code",
      "source": [
        "def my_function(food):\n",
        "  for x in food:\n",
        "    print(x)\n",
        "\n",
        "fruits = [\"apple\", \"banana\", \"cherry\"]\n",
        "\n",
        "my_function(fruits)"
      ],
      "metadata": {
        "colab": {
          "base_uri": "https://localhost:8080/"
        },
        "id": "jqqBY1X66k6-",
        "outputId": "2f3bf60e-1521-49fe-e6ba-9dad9658d5d3"
      },
      "execution_count": null,
      "outputs": [
        {
          "output_type": "stream",
          "name": "stdout",
          "text": [
            "apple\n",
            "banana\n",
            "cherry\n"
          ]
        }
      ]
    },
    {
      "cell_type": "code",
      "source": [
        "def my_function(x):\n",
        "  return 5 * x\n",
        "\n",
        "print(my_function(3))\n",
        "print(my_function(5))\n",
        "print(my_function(9))"
      ],
      "metadata": {
        "colab": {
          "base_uri": "https://localhost:8080/"
        },
        "id": "J3N4MJeC6mV2",
        "outputId": "c031a94a-b1f3-462a-cb09-939c72fba2b4"
      },
      "execution_count": null,
      "outputs": [
        {
          "output_type": "stream",
          "name": "stdout",
          "text": [
            "15\n",
            "25\n",
            "45\n"
          ]
        }
      ]
    },
    {
      "cell_type": "code",
      "source": [
        "def myfunction():\n",
        "  pass"
      ],
      "metadata": {
        "id": "6qEybvfP6u4d"
      },
      "execution_count": null,
      "outputs": []
    },
    {
      "cell_type": "code",
      "source": [
        "#Recursion Example\n",
        "def tri_recursion(k):\n",
        "  if(k > 0):\n",
        "    result = k + tri_recursion(k - 1)\n",
        "    print(result)\n",
        "  else:\n",
        "    result = 0\n",
        "  return result\n",
        "\n",
        "print(\"\\n\\nRecursion Example Results\")\n",
        "tri_recursion(6)"
      ],
      "metadata": {
        "colab": {
          "base_uri": "https://localhost:8080/"
        },
        "id": "ESZVQRSz6wm1",
        "outputId": "5518d6f0-487e-4257-cf2f-ebae674e9f68"
      },
      "execution_count": null,
      "outputs": [
        {
          "output_type": "stream",
          "name": "stdout",
          "text": [
            "\n",
            "\n",
            "Recursion Example Results\n",
            "1\n",
            "3\n",
            "6\n",
            "10\n",
            "15\n",
            "21\n"
          ]
        },
        {
          "output_type": "execute_result",
          "data": {
            "text/plain": [
              "21"
            ]
          },
          "metadata": {},
          "execution_count": 12
        }
      ]
    },
    {
      "cell_type": "code",
      "source": [
        "# wekkly exercise 1\n",
        "# kode program untuk menghitung nilai faktorial\n",
        "\n",
        "def faktorial(n):\n",
        "  if n == 1:\n",
        "    return 1\n",
        "  else:\n",
        "    return n * faktorial(n-1)\n",
        "\n",
        "faktorial(6)"
      ],
      "metadata": {
        "colab": {
          "base_uri": "https://localhost:8080/"
        },
        "id": "gr9hijSS6ya9",
        "outputId": "01a93583-bc92-406f-9742-82c5f0f545cd"
      },
      "execution_count": 1,
      "outputs": [
        {
          "output_type": "execute_result",
          "data": {
            "text/plain": [
              "720"
            ]
          },
          "metadata": {},
          "execution_count": 1
        }
      ]
    },
    {
      "cell_type": "code",
      "source": [
        "# weekly exercise 2\n",
        "# membuat kalulator untuk menghitung luas lingkaran, persegi, dan segitiga\n",
        "\n",
        "import math\n",
        "\n",
        "def luas_lingkaran(jari_jari):\n",
        "  return math.pi * jari_jari ** 2\n",
        "\n",
        "def luas_persegi(sisi):\n",
        "  return sisi * sisi\n",
        "\n",
        "def luas_segitiga(alas, tinggi):\n",
        "  return 0.5 * alas * tinggi\n",
        "\n",
        "def hitung():\n",
        "  while True:\n",
        "    print(\"\\npilih perhitungan luas bangun datar :\")\n",
        "    print(\"1. luas lingkaran\")\n",
        "    print(\"2. luas persegi\")\n",
        "    print(\"3. luas segitiga\")\n",
        "    print(\"4. keluar\")\n",
        "\n",
        "    pilihan = input(\"masukkan pilihan (1/2/3/4):\")\n",
        "\n",
        "    if pilihan == '1':\n",
        "      jari_jari = float(input(\"masukkan jari-jari lingkaran :\"))\n",
        "      print(f\"luas lingkaran  : {luas_lingkaran(jari_jari)}\")\n",
        "    elif pilihan == '2':\n",
        "      sisi = float(input(\"masukkan sisi persegi : \"))\n",
        "      print(f\"luas persegi    : {luas_persegi(sisi)}\")\n",
        "    elif pilihan == '3':\n",
        "      alas = float(input(\"masukkan alas segitiga : \"))\n",
        "      tinggi = float(input(\"masukkan tinggi segitiga : \"))\n",
        "      print(f\"luas segitiga   : {luas_segitiga(alas, tinggi)}\")\n",
        "    elif pilihan == '4':\n",
        "      print(\"program selesai\")\n",
        "      break\n",
        "    else:\n",
        "      print(\"pilihan tidak valid\")\n",
        "\n",
        "# Memulai program\n",
        "hitung()"
      ],
      "metadata": {
        "colab": {
          "base_uri": "https://localhost:8080/"
        },
        "id": "i-w0Cqpu_sQ_",
        "outputId": "843da9ee-7059-4ec3-80b9-aff729172ede"
      },
      "execution_count": null,
      "outputs": [
        {
          "output_type": "stream",
          "name": "stdout",
          "text": [
            "\n",
            "pilih perhitungan luas bangun datar :\n",
            "1. luas lingkaran\n",
            "2. luas persegi\n",
            "3. luas segitiga\n",
            "4. keluar\n",
            "masukkan pilihan (1/2/3/4):1\n",
            "masukkan jari-jari lingkaran :14\n",
            "luas lingkaran  : 615.7521601035994\n",
            "\n",
            "pilih perhitungan luas bangun datar :\n",
            "1. luas lingkaran\n",
            "2. luas persegi\n",
            "3. luas segitiga\n",
            "4. keluar\n",
            "masukkan pilihan (1/2/3/4):2\n",
            "masukkan sisi persegi : 22\n",
            "luas persegi    : 484.0\n",
            "\n",
            "pilih perhitungan luas bangun datar :\n",
            "1. luas lingkaran\n",
            "2. luas persegi\n",
            "3. luas segitiga\n",
            "4. keluar\n",
            "masukkan pilihan (1/2/3/4):3\n",
            "masukkan alas segitiga : 12\n",
            "masukkan tinggi segitiga : 14\n",
            "luas segitiga   : 84.0\n",
            "\n",
            "pilih perhitungan luas bangun datar :\n",
            "1. luas lingkaran\n",
            "2. luas persegi\n",
            "3. luas segitiga\n",
            "4. keluar\n",
            "masukkan pilihan (1/2/3/4):4\n",
            "program selesai\n"
          ]
        }
      ]
    }
  ]
}